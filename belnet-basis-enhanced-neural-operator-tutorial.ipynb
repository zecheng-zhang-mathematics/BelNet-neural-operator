{
 "cells": [
  {
   "cell_type": "code",
   "execution_count": 1,
   "metadata": {
    "_cell_guid": "b1076dfc-b9ad-4769-8c92-a6c4dae69d19",
    "_uuid": "8f2839f25d086af736a60e9eeb907d3b93b6e0e5",
    "execution": {
     "iopub.execute_input": "2023-02-14T04:25:50.776433Z",
     "iopub.status.busy": "2023-02-14T04:25:50.775829Z",
     "iopub.status.idle": "2023-02-14T04:25:54.706491Z",
     "shell.execute_reply": "2023-02-14T04:25:54.706926Z",
     "shell.execute_reply.started": "2023-02-14T02:12:01.641002Z"
    },
    "papermill": {
     "duration": 3.95654,
     "end_time": "2023-02-14T04:25:54.707109",
     "exception": false,
     "start_time": "2023-02-14T04:25:50.750569",
     "status": "completed"
    },
    "tags": []
   },
   "outputs": [],
   "source": [
    "import matplotlib.pyplot as plt\n",
    "import numpy as np\n",
    "import torch\n",
    "from torch import nn, optim\n",
    "import torch.nn.functional as F\n",
    "from torch.nn.functional import softmax\n",
    "from torchvision import datasets, transforms\n",
    "\n",
    "import os\n",
    "import pandas as pd\n",
    "from numpy import linalg as LA\n",
    "from tqdm import tqdm\n",
    "import time\n",
    "from torch.utils import data\n",
    "from scipy.sparse import csc_matrix\n",
    "from scipy.sparse.linalg import spsolve\n",
    "from scipy.linalg import eigh\n",
    "from scipy.linalg import eig\n",
    "\n",
    "from scipy.stats import multivariate_normal as normalpdf\n",
    "from scipy.stats import multinomial as multinomial\n",
    "from numpy.random import multivariate_normal as sample_normal\n",
    "from numpy.random import binomial as binomial\n",
    "import random\n",
    "\n",
    "import collections\n",
    "\n",
    "device = torch.device(\"cuda:0\" if torch.cuda.is_available() else \"cpu\")"
   ]
  },
  {
   "cell_type": "markdown",
   "metadata": {
    "papermill": {
     "duration": 0.01564,
     "end_time": "2023-02-14T04:25:54.738665",
     "exception": false,
     "start_time": "2023-02-14T04:25:54.723025",
     "status": "completed"
    },
    "tags": []
   },
   "source": [
    "Operator learning has received considerable attention in the past a few years. Different from the classical learning, operator learning learns an operator which maps a function space to another function space, i.e., the network input and output are both functions.\n",
    "\n",
    "Let $V$, $U$ be two function spaces, and $G:V\\rightarrow U$ be an operator. Specifically, $G(u)(\\cdot)\\in U$ for any $u\\in V$. Moreover, we will call $u(y)$ input function and denote its domain as $K_1$; $G(u)(\\cdot)$ is the output function (corresponding to $u$). We want to construct a neural network $G_{\\theta}$ to approximate $G()$, i.e.,\n",
    "\n",
    "\\begin{align}\n",
    "G(u)(x)\\approx G_{\\theta}(u)(x),\n",
    "\\end{align}\n",
    "for all $u\\in V$ and $x\\in K_2$, where $K_2$ is the domain of the output function.\n",
    "\n",
    "Here we list some great works about operator learning:\n",
    "1. T. Chen and H. Chen. Universal approximation to nonlinear operators by neural networks with arbitrary activation functions and its application to dynamical systems. IEEE Transactions on Neural Networks, 6(4):911–917, 1995.\n",
    "\n",
    "The authors proposed and proved the universal approximation theory for the continuous operator.\n",
    "\n",
    "\n",
    "2. L. Lu, P. Jin, G. Pang, Z. Zhang, and G. E. Karniadakis. Learning nonlinear operators via DeepONet based on the universal approximation theorem of operators. Nature Machine Intelligence, 3(3):218–229, 2021.\n",
    "\n",
    "One calls the network in this masterpiece DeepONet or DON.\n",
    "\n",
    "3. Z. Li, N. Kovachki, K. Azizzadenesheli, B. Liu, K. Bhattacharya, A. Stuart, and A. Anandkumar. Fourier neural operator for parametric partial differential equations. arXiv preprint arXiv:2010.08895, 2020.\n",
    "\n",
    "One calls the network in this masterpiece FNO.\n",
    "\n",
    "4. Z. Zhang, W. T. Leung and H. Schaeffer. BelNet: Basis enhanced learning, a mesh-free neural operator. arXiv preprint arXiv:2212.07336, 2022.\n",
    "\n"
   ]
  },
  {
   "cell_type": "markdown",
   "metadata": {
    "papermill": {
     "duration": 0.015153,
     "end_time": "2023-02-14T04:25:54.769440",
     "exception": false,
     "start_time": "2023-02-14T04:25:54.754287",
     "status": "completed"
    },
    "tags": []
   },
   "source": [
    "In this kernel, we will discuss the coding for BelNet: basis enhanced learning. It is a mesh free neural operator. We refer to https://arxiv.org/pdf/2212.07336.pdf.\n",
    "\n",
    "One can follow the steps here to prepare data and write codes for other great operator learning networks such as DeepONet.\n",
    "\n",
    "We consider the Viscous Burgers equation example, which is example 1 (Section 4.1) of the work: https://arxiv.org/pdf/2212.07336.pdf.\n",
    "The PDE is 1D in space and time, and we want to learning the mapping from the initial condition (which is a function of $x$) to the solution at the terminal time (which is another function of $x$)."
   ]
  },
  {
   "cell_type": "code",
   "execution_count": 2,
   "metadata": {
    "execution": {
     "iopub.execute_input": "2023-02-14T04:25:54.811485Z",
     "iopub.status.busy": "2023-02-14T04:25:54.810859Z",
     "iopub.status.idle": "2023-02-14T04:25:55.480955Z",
     "shell.execute_reply": "2023-02-14T04:25:55.481587Z",
     "shell.execute_reply.started": "2023-02-14T01:57:55.305034Z"
    },
    "papermill": {
     "duration": 0.697135,
     "end_time": "2023-02-14T04:25:55.481772",
     "exception": false,
     "start_time": "2023-02-14T04:25:54.784637",
     "status": "completed"
    },
    "tags": []
   },
   "outputs": [
    {
     "name": "stdout",
     "output_type": "stream",
     "text": [
      "set_of_exact_solution (2001, 151, 16)\n",
      "transpose set_of_exact_solution (2001, 16, 151)\n",
      "--------------------------------------------------------------->>\n",
      "set_of_ff (2001, 151)\n",
      "--------------------------------------------------------------->>\n",
      "--------------------------------------------------------------->>\n",
      "training_exact_solution (200, 16, 151)\n",
      "testing_exact_solution (1801, 16, 151)\n",
      "--------------------------------------------------------------->>\n",
      "training_ff (200, 151)\n",
      "testing_ff (1801, 151)\n",
      "velocity (16,)\n",
      "vel_idx [0, 1, 2, 3, 4, 5, 6, 7, 8, 9, 10, 11, 12, 13, 14, 15]\n"
     ]
    }
   ],
   "source": [
    "aa = 151\n",
    "max_x = 2*np.pi\n",
    "hh = max_x/(aa-1)\n",
    "\n",
    "\n",
    "# load the data\n",
    "\n",
    "# set_of_exact_solution: exact solutions. \n",
    "path = \"../input/v-burgers-data/set_sol.npy\"\n",
    "set_of_exact_solution = np.load(path)\n",
    "print(\"set_of_exact_solution\", np.shape(set_of_exact_solution))\n",
    "\n",
    "# After the transpose: the first dimension is the number of samples, the second dimension is the time, the last dimension is the space.\n",
    "set_of_exact_solution = np.transpose(set_of_exact_solution, (0, -1, 1))\n",
    "print(\"transpose set_of_exact_solution\", np.shape(set_of_exact_solution))\n",
    "\n",
    "\n",
    "print(\"--------------------------------------------------------------->>\")\n",
    "\n",
    "\n",
    "path = \"../input/v-burgers-data/set_ic.npy\"\n",
    "\n",
    "# set_of_ff is the initial condition (solution at the t = 0), the first dimension is the the number of samples, the second dimension is the space\n",
    "# Forget about the weird name, but set_of_ff is the set of input functions.\n",
    "\n",
    "set_of_ff = np.load(path)\n",
    "print(\"set_of_ff\", np.shape(set_of_ff))\n",
    "print(\"--------------------------------------------------------------->>\")\n",
    "\n",
    "total_nb_of_samples = len(set_of_exact_solution)\n",
    "# # tpptr\n",
    "nb_training_samples = 200\n",
    "nb_testing_samples = total_nb_of_samples - nb_training_samples\n",
    "print(\"--------------------------------------------------------------->>\")\n",
    "training_exact_solution = set_of_exact_solution[:nb_training_samples]\n",
    "print(\"training_exact_solution\", np.shape(training_exact_solution))\n",
    "\n",
    "\n",
    "testing_exact_solution = set_of_exact_solution[nb_training_samples:]\n",
    "print(\"testing_exact_solution\", np.shape(testing_exact_solution))\n",
    "print(\"--------------------------------------------------------------->>\")\n",
    "training_ff = set_of_ff[:nb_training_samples]\n",
    "print(\"training_ff\", np.shape(training_ff))\n",
    "testing_ff = set_of_ff[nb_training_samples:]\n",
    "print(\"testing_ff\", np.shape(testing_ff))\n",
    "\n",
    "\n",
    "path = \"../input/v-burgers-data/save_time_coord.npy\"\n",
    "velocity = np.load(path)\n",
    "print(\"velocity\", np.shape(velocity))\n",
    "\n",
    "vel_idx = [ii for ii in range(len(velocity))]\n",
    "print(\"vel_idx\", vel_idx)"
   ]
  },
  {
   "cell_type": "code",
   "execution_count": 3,
   "metadata": {
    "execution": {
     "iopub.execute_input": "2023-02-14T04:25:55.520900Z",
     "iopub.status.busy": "2023-02-14T04:25:55.520363Z",
     "iopub.status.idle": "2023-02-14T04:25:55.932258Z",
     "shell.execute_reply": "2023-02-14T04:25:55.932726Z",
     "shell.execute_reply.started": "2023-02-14T01:57:55.367291Z"
    },
    "papermill": {
     "duration": 0.434142,
     "end_time": "2023-02-14T04:25:55.932863",
     "exception": false,
     "start_time": "2023-02-14T04:25:55.498721",
     "status": "completed"
    },
    "tags": []
   },
   "outputs": [
    {
     "data": {
      "image/png": "[encoded data removed]",
      "text/plain": [
       "<Figure size 432x288 with 1 Axes>"
      ]
     },
     "metadata": {
      "needs_background": "light"
     },
     "output_type": "display_data"
    },
    {
     "data": {
      "image/png": "[encoded data removed]",
      "text/plain": [
       "<Figure size 432x288 with 1 Axes>"
      ]
     },
     "metadata": {
      "needs_background": "light"
     },
     "output_type": "display_data"
    }
   ],
   "source": [
    "plt.plot(training_exact_solution[0, -1], label = \"terminal solution\")\n",
    "plt.plot(training_ff[0, :-1], label = \"initial condition\")\n",
    "plt.title(\"Demonstration of input/ouput function pair\")\n",
    "plt.legend()\n",
    "plt.show()\n",
    "\n",
    "\n",
    "\n",
    "plt.plot(training_exact_solution[-1, -1],  label = \"terminal solution\")\n",
    "plt.plot(training_ff[-1, :-1], label = \"initial condition\")\n",
    "plt.title(\"Demonstration of another input/ouput function pair\")\n",
    "plt.show()"
   ]
  },
  {
   "cell_type": "markdown",
   "metadata": {
    "papermill": {
     "duration": 0.017964,
     "end_time": "2023-02-14T04:25:55.970747",
     "exception": false,
     "start_time": "2023-02-14T04:25:55.952783",
     "status": "completed"
    },
    "tags": []
   },
   "source": [
    "The next cell loads sensors. Sensor, which are some points in the domain of the input function space, are used to sample the input function values.\n",
    "\n",
    "BelNet is invariant to the input function discretization, or one can employ different sets of sensors (discretizations) for different input functions.\n",
    "\n"
   ]
  },
  {
   "cell_type": "code",
   "execution_count": 4,
   "metadata": {
    "execution": {
     "iopub.execute_input": "2023-02-14T04:25:56.014907Z",
     "iopub.status.busy": "2023-02-14T04:25:56.014366Z",
     "iopub.status.idle": "2023-02-14T04:25:56.062566Z",
     "shell.execute_reply": "2023-02-14T04:25:56.061604Z",
     "shell.execute_reply.started": "2023-02-14T01:57:55.724472Z"
    },
    "papermill": {
     "duration": 0.074832,
     "end_time": "2023-02-14T04:25:56.062727",
     "exception": false,
     "start_time": "2023-02-14T04:25:55.987895",
     "status": "completed"
    },
    "tags": []
   },
   "outputs": [
    {
     "name": "stdout",
     "output_type": "stream",
     "text": [
      "set_of_coord_of_source (2001, 50)\n",
      "set_of_source_value (2001, 50)\n",
      "load_set_of_training_coord_of_source (200, 50)\n",
      "load_set_of_training_source_value (200, 50)\n",
      "load_set_of_testing_coord_of_source (1801, 50)\n",
      "load_set_of_testing_source_value (1801, 50)\n",
      "--------------------------------------------------------------->>\n",
      "set_of_training_coord_of_source1 (200, 25)\n",
      "set_of_training_coord_of_source (200, 25)\n",
      "set_of_training_source_value (200, 25)\n",
      "--------------------------------------------------------------->>\n",
      "set_of_testing_coord_of_source1 (1801, 25)\n",
      "set_of_testing_coord_of_source (1801, 25)\n",
      "set_of_testing_source_value (1801, 25)\n"
     ]
    }
   ],
   "source": [
    "# for the rdm sensors version (use sensors to measure ic)\n",
    "\n",
    "# set_of_coord_of_source: the coord of all samples' input function sensors\n",
    "set_of_coord_of_source = np.squeeze(np.load(\"../input/v-burgers-data/set_of_coord_of_source.npy\"))\n",
    "# set_of_source_value: the function (it is just initial condition) values at all samples' input function sensors\n",
    "set_of_source_value = np.load(\"../input/v-burgers-data/set_of_source_value.npy\")\n",
    "\n",
    "print(\"set_of_coord_of_source\", np.shape(set_of_coord_of_source))\n",
    "print(\"set_of_source_value\", np.shape(set_of_source_value))\n",
    "\n",
    "load_set_of_training_coord_of_source = set_of_coord_of_source[:nb_training_samples]\n",
    "load_set_of_training_source_value = set_of_source_value[:nb_training_samples]\n",
    "print(\"load_set_of_training_coord_of_source\", np.shape(load_set_of_training_coord_of_source))\n",
    "print(\"load_set_of_training_source_value\", np.shape(load_set_of_training_source_value))\n",
    "\n",
    "load_set_of_testing_coord_of_source = set_of_coord_of_source[nb_training_samples:]\n",
    "load_set_of_testing_source_value = set_of_source_value[nb_training_samples:]\n",
    "\n",
    "print(\"load_set_of_testing_coord_of_source\", np.shape(load_set_of_testing_coord_of_source))\n",
    "print(\"load_set_of_testing_source_value\", np.shape(load_set_of_testing_source_value))\n",
    "\n",
    "print(\"--------------------------------------------------------------->>\")\n",
    "# # tppsrc\n",
    "size_of_coarse = 2\n",
    "\n",
    "# We sub-sample all sensors, and will use 25 sensors for each different samples.\n",
    "set_of_training_coord_of_source1 = load_set_of_training_coord_of_source[:, 0::size_of_coarse, ]\n",
    "print(\"set_of_training_coord_of_source1\", np.shape(set_of_training_coord_of_source1))\n",
    "set_of_training_coord_of_source = set_of_training_coord_of_source1\n",
    "\n",
    "set_of_training_source_value = load_set_of_training_source_value[:, 0::size_of_coarse ]\n",
    "print(\"set_of_training_coord_of_source\", np.shape(set_of_training_coord_of_source))\n",
    "print(\"set_of_training_source_value\", np.shape(set_of_training_source_value))\n",
    "\n",
    "print(\"--------------------------------------------------------------->>\")\n",
    "\n",
    "set_of_testing_coord_of_source1 = load_set_of_testing_coord_of_source[:, 0::size_of_coarse,]\n",
    "print(\"set_of_testing_coord_of_source1\", np.shape(set_of_testing_coord_of_source1))\n",
    "set_of_testing_coord_of_source = set_of_testing_coord_of_source1\n",
    "\n",
    "set_of_testing_source_value = load_set_of_testing_source_value[:, 0::size_of_coarse ]\n",
    "print(\"set_of_testing_coord_of_source\", np.shape(set_of_testing_coord_of_source))\n",
    "print(\"set_of_testing_source_value\", np.shape(set_of_testing_source_value))"
   ]
  },
  {
   "cell_type": "markdown",
   "metadata": {
    "papermill": {
     "duration": 0.019287,
     "end_time": "2023-02-14T04:25:56.100761",
     "exception": false,
     "start_time": "2023-02-14T04:25:56.081474",
     "status": "completed"
    },
    "tags": []
   },
   "source": [
    "In the next cell, we demonstrate the sampled input function values (IC) by sensors and the exact input function.\n",
    "\n",
    "We present two samples, but please note that the discretizations (sensors, the black dots) for these two samples are different."
   ]
  },
  {
   "cell_type": "code",
   "execution_count": 5,
   "metadata": {
    "execution": {
     "iopub.execute_input": "2023-02-14T04:25:56.145010Z",
     "iopub.status.busy": "2023-02-14T04:25:56.144466Z",
     "iopub.status.idle": "2023-02-14T04:25:56.431338Z",
     "shell.execute_reply": "2023-02-14T04:25:56.430819Z",
     "shell.execute_reply.started": "2023-02-14T01:57:55.751853Z"
    },
    "papermill": {
     "duration": 0.312518,
     "end_time": "2023-02-14T04:25:56.431462",
     "exception": false,
     "start_time": "2023-02-14T04:25:56.118944",
     "status": "completed"
    },
    "tags": []
   },
   "outputs": [
    {
     "data": {
      "image/png": "[encoded data removed]",
      "text/plain": [
       "<Figure size 432x288 with 1 Axes>"
      ]
     },
     "metadata": {
      "needs_background": "light"
     },
     "output_type": "display_data"
    },
    {
     "data": {
      "image/png": "[encoded data removed]",
      "text/plain": [
       "<Figure size 432x288 with 1 Axes>"
      ]
     },
     "metadata": {
      "needs_background": "light"
     },
     "output_type": "display_data"
    }
   ],
   "source": [
    "DX = max_x/(aa-1)\n",
    "x = np.zeros(aa)\n",
    "\n",
    "for i in range(0, aa):\n",
    "    x[i] = i*DX\n",
    "\n",
    "path = \"../input/v-burgers-data/set_ic.npy\"\n",
    "set_ic = np.load(path)\n",
    "\n",
    "which_sample_to_show = 10\n",
    "which_sample_to_show2 = 100\n",
    "\n",
    "plt.plot(x, set_ic[which_sample_to_show, :], \"b-\", label = \"ref\")\n",
    "plt.plot(np.array(set_of_training_coord_of_source)[which_sample_to_show, :], np.array(set_of_training_source_value)[which_sample_to_show, :], \"ro\", label = \"sampled\")\n",
    "plt.legend()\n",
    "plt.title(\"Reference I.C. vs sampled I.C.\")\n",
    "plt.show()\n",
    "\n",
    "plt.plot(x, set_ic[which_sample_to_show2, :], \"y-\", label = \"another ref\")\n",
    "plt.plot(np.array(set_of_training_coord_of_source)[which_sample_to_show2, :], np.array(set_of_training_source_value)[which_sample_to_show2, :], \"ko\", label = \"another sampled\")\n",
    "plt.legend()\n",
    "plt.title(\"Reference I.C. vs sampled I.C.\")\n",
    "plt.show()"
   ]
  },
  {
   "cell_type": "markdown",
   "metadata": {
    "papermill": {
     "duration": 0.019322,
     "end_time": "2023-02-14T04:25:56.471827",
     "exception": false,
     "start_time": "2023-02-14T04:25:56.452505",
     "status": "completed"
    },
    "tags": []
   },
   "source": [
    "The next cell prepares the training data. Preparing the training and testing data may be the most difficult steps in operator learning. \n",
    "\n",
    "This step is roughly the same for all neural operator structures such as DeepONet (DON).\n",
    "\n",
    "In general, the data preparation follows from the loss function of operator learning.\n",
    "\n",
    "Suppose one has $N_u$ input functions in total, and denote i-th input function as $u_i$, its coresponding output function as $G(u_i)(\\cdot)$.\n",
    "\n",
    "Let us assume the output function $G(u_i)(\\cdot)$ values are known at $\\{x_k^i\\}_{k = 1}^{N_i}$ and denote the the value at $x_k^i$ as $y_k^i$.\n",
    "\n",
    "Here $x_k^i$ is the independent variable of the output function, it can be a vector (e.g., space + time).\n",
    "\n",
    "We want to minimize the following loss function,\n",
    "\n",
    "\\begin{align}\n",
    "\\min_{\\theta} \\frac{1}{N_uN_i}\\sum_{i = 1}^{N_u} \\sum_{ k = 1}^{N_i}\\|y_k^i - G_{\\theta}(u_i)(x_k^i)\\|^2_F,\n",
    "\\end{align}\n",
    "where $\\theta$ denotes all trainable parameters of the network $G_{theta}(\\cdot)(\\cdot)$.\n",
    "\n",
    "In the next cell, nb_point_used_per_row is the $N_i$. We assume $x_k^i$ are the same for all samples. "
   ]
  },
  {
   "cell_type": "code",
   "execution_count": 6,
   "metadata": {
    "execution": {
     "iopub.execute_input": "2023-02-14T04:25:56.523765Z",
     "iopub.status.busy": "2023-02-14T04:25:56.520318Z",
     "iopub.status.idle": "2023-02-14T04:25:56.613541Z",
     "shell.execute_reply": "2023-02-14T04:25:56.613034Z",
     "shell.execute_reply.started": "2023-02-14T01:57:56.119263Z"
    },
    "papermill": {
     "duration": 0.121794,
     "end_time": "2023-02-14T04:25:56.613658",
     "exception": false,
     "start_time": "2023-02-14T04:25:56.491864",
     "status": "completed"
    },
    "tags": []
   },
   "outputs": [
    {
     "name": "stdout",
     "output_type": "stream",
     "text": [
      "training_x_index [  1   8  16  24  32  40  48  55  63  71  79  87  95 102 110 118 126 134\n",
      " 142 150]\n",
      "train_vel [1, 4, 7, 10, 13]\n",
      "training_sol_coord (200, 5, 20, 2)\n",
      "training_sol_value (200, 5, 20)\n",
      "--------------------------------------------------------------->>\n",
      "reshape training_sol_coord (200, 100, 2)\n",
      "reshape training_sol_value (200, 100)\n"
     ]
    }
   ],
   "source": [
    "# This is the N_i, or number of solution values for each output function.\n",
    "nb_point_used_per_row = 20\n",
    "\n",
    "# the x coordinate for each output function\n",
    "training_x_index = np.linspace(1, aa-1, nb_point_used_per_row, dtype = int)\n",
    "\n",
    "print(\"training_x_index\", training_x_index)\n",
    "\n",
    "# this function returns: solutions (output functions) at some points \n",
    "# and the coord of these points.\n",
    "# x_index are the row and col index of the these points\n",
    "# which_velocity indicates the time (note that: the solution depends both on space and time).\n",
    "\n",
    "def mesh_and_sol_value(sol, x_index, which_velocity):\n",
    "    training_coord = []\n",
    "    training_val = []\n",
    "    \n",
    "    for ii in range(len(x_index)):\n",
    "\n",
    "        training_coord.append( [ (x_index[ii] )*hh, velocity[which_velocity]] )\n",
    "        training_val.append(sol[which_velocity, x_index[ii] ])\n",
    "\n",
    "    return training_coord, training_val\n",
    "\n",
    "training_sol_coord = []\n",
    "training_sol_value = []\n",
    "\n",
    "\n",
    "# We do not use solutions at all time steps to train, so we select some time levels.\n",
    "# train_vel is the candidate time indices for all solutions\n",
    "train_vel = vel_idx[1::3]\n",
    "print(\"train_vel\", train_vel)\n",
    "\n",
    "for ii in (range(len(training_exact_solution))):\n",
    "    temp1 = []\n",
    "    temp2 = []\n",
    "    for jj in train_vel:\n",
    "\n",
    "        ta, tb = mesh_and_sol_value(training_exact_solution[ii], training_x_index, jj)\n",
    "\n",
    "        temp1.append(ta)\n",
    "        temp2.append(tb)\n",
    "\n",
    "    training_sol_coord.append(temp1)\n",
    "    training_sol_value.append(temp2)\n",
    "\n",
    "    \n",
    "# Dimension 1: # of inout functions (IC)\n",
    "# Dimension 2: # time steps\n",
    "# Dimension 3: # space discretization points\n",
    "# Dimension 4 (for) training_sol_coord: coordinate (space, time)\n",
    "print(\"training_sol_coord\", np.shape(training_sol_coord))\n",
    "print(\"training_sol_value\", np.shape(training_sol_value))\n",
    "print(\"--------------------------------------------------------------->>\")\n",
    "\n",
    "\n",
    "# reshape\n",
    "training_sol_coord = np.reshape(training_sol_coord, (len(training_sol_coord), -1, 2))\n",
    "training_sol_value = np.reshape(training_sol_value, (len(training_sol_coord), -1))\n",
    "print(\"reshape training_sol_coord\", np.shape(training_sol_coord))\n",
    "print(\"reshape training_sol_value\", np.shape(training_sol_value))"
   ]
  },
  {
   "cell_type": "markdown",
   "metadata": {
    "papermill": {
     "duration": 0.02033,
     "end_time": "2023-02-14T04:25:56.655274",
     "exception": false,
     "start_time": "2023-02-14T04:25:56.634944",
     "status": "completed"
    },
    "tags": []
   },
   "source": [
    "The next cell further reshape the training data and generate the Pytorch tensors for training."
   ]
  },
  {
   "cell_type": "code",
   "execution_count": 7,
   "metadata": {
    "execution": {
     "iopub.execute_input": "2023-02-14T04:25:56.725328Z",
     "iopub.status.busy": "2023-02-14T04:25:56.705024Z",
     "iopub.status.idle": "2023-02-14T04:26:02.663700Z",
     "shell.execute_reply": "2023-02-14T04:26:02.663111Z",
     "shell.execute_reply.started": "2023-02-14T01:57:56.244002Z"
    },
    "papermill": {
     "duration": 5.988693,
     "end_time": "2023-02-14T04:26:02.663819",
     "exception": false,
     "start_time": "2023-02-14T04:25:56.675126",
     "status": "completed"
    },
    "tags": []
   },
   "outputs": [
    {
     "name": "stdout",
     "output_type": "stream",
     "text": [
      "training_node_input (20000, 25)\n",
      "training_u_input (20000, 25)\n",
      "training_output (20000,)\n",
      "training_dependent_input (20000, 1, 2)\n",
      "--------------------------------------------------------------->>\n",
      "torch_training_u_input torch.Size([20000, 25, 1])\n",
      "torch_training_node_input torch.Size([20000, 1, 25])\n",
      "torch_training_output torch.Size([20000, 1])\n",
      "torch_training_dependent_input torch.Size([20000, 1, 2])\n"
     ]
    }
   ],
   "source": [
    "# tppdim\n",
    "\n",
    "dim_output_space_basis = 10\n",
    "\n",
    "def training_in_output( nb_of_sample_observation, training1_sol_coord, training1_sol_value):\n",
    "    training_node_input = []\n",
    "    training_u_input = []\n",
    "    training_dependent_input = []\n",
    "    training_output = []\n",
    "\n",
    "    for ii in range(len(set_of_training_source_value)):\n",
    "        for jj in range(nb_of_sample_observation):\n",
    "            training_u_input.append(set_of_training_source_value[ii])\n",
    "            training_node_input.append(set_of_training_coord_of_source[ii])\n",
    "\n",
    "            training_dependent_input.append(training1_sol_coord[ii][jj])\n",
    "\n",
    "            training_output.append(training1_sol_value[ii][jj])\n",
    "    \n",
    "    training_dependent_input = np.expand_dims(training_dependent_input, axis = 1)\n",
    "    print(\"training_node_input\", np.shape(training_node_input))\n",
    "    print(\"training_u_input\", np.shape(training_u_input))\n",
    "    print(\"training_output\", np.shape(training_output))\n",
    "    print(\"training_dependent_input\", np.shape(training_dependent_input))\n",
    "    \n",
    "    print(\"--------------------------------------------------------------->>\")\n",
    "\n",
    "    torch_training_u_input = torch.tensor(np.expand_dims(training_u_input, axis = -1), dtype=torch.float32, device = device)\n",
    "    torch_training_node_input = torch.tensor(np.expand_dims(training_node_input, axis = 1), dtype=torch.float32, device = device)\n",
    "    torch_training_output = torch.tensor(np.expand_dims(training_output, axis = -1), dtype=torch.float32, device = device)\n",
    "    torch_training_dependent_input = torch.tensor(training_dependent_input, dtype=torch.float32, device = device)\n",
    "    \n",
    "    print(\"torch_training_u_input\", torch_training_u_input.size())\n",
    "    print(\"torch_training_node_input\", torch_training_node_input.size())\n",
    "    print(\"torch_training_output\", torch_training_output.size())\n",
    "    print(\"torch_training_dependent_input\", torch_training_dependent_input.size())\n",
    "\n",
    "    return torch_training_u_input, torch_training_node_input, torch_training_output, torch_training_dependent_input\n",
    "\n",
    "torch_training_u_input, torch_training_node_input, torch_training_output, torch_training_dependent_input = training_in_output(np.shape(training_sol_value)[1], training_sol_coord, training_sol_value)"
   ]
  },
  {
   "cell_type": "markdown",
   "metadata": {
    "papermill": {
     "duration": 0.020041,
     "end_time": "2023-02-14T04:26:02.703842",
     "exception": false,
     "start_time": "2023-02-14T04:26:02.683801",
     "status": "completed"
    },
    "tags": []
   },
   "source": [
    "The next block generate selects one sample for testing. This sample is only used to show the generalization loss decay during the training process.\n",
    "\n",
    "We later will test on all samples with a dense mesh in space after the model is well trained."
   ]
  },
  {
   "cell_type": "code",
   "execution_count": 8,
   "metadata": {
    "execution": {
     "iopub.execute_input": "2023-02-14T04:26:02.759331Z",
     "iopub.status.busy": "2023-02-14T04:26:02.757571Z",
     "iopub.status.idle": "2023-02-14T04:26:02.766978Z",
     "shell.execute_reply": "2023-02-14T04:26:02.764926Z",
     "shell.execute_reply.started": "2023-02-14T01:57:56.384024Z"
    },
    "papermill": {
     "duration": 0.043337,
     "end_time": "2023-02-14T04:26:02.767149",
     "exception": false,
     "start_time": "2023-02-14T04:26:02.723812",
     "status": "completed"
    },
    "tags": []
   },
   "outputs": [
    {
     "name": "stdout",
     "output_type": "stream",
     "text": [
      "testing_x_index (149,)\n",
      "testing_sol_coord (149, 2)\n",
      "testing_sol_value (149,)\n",
      "--------------------------------------------------------------->>\n",
      "testing_node_input (149, 25)\n",
      "testing_u_input (149, 25)\n",
      "testing_output (149, 1)\n",
      "testing_dependent_input (149, 1, 2)\n",
      "--------------------------------------------------------------->>\n",
      "torch1_testing_u_input torch.Size([149, 25, 1])\n",
      "torch1_testing_node_input torch.Size([149, 1, 25])\n",
      "torch1_testing_output torch.Size([149, 1])\n",
      "torch1_testing_dependent_input torch.Size([149, 1, 2])\n"
     ]
    }
   ],
   "source": [
    "which_sample_to_test = 0\n",
    "testing_x_index = [ii for ii in range(aa+1)]\n",
    "\n",
    "testing_x_index = np.arange(1, aa-1, 1, int)\n",
    "print(\"testing_x_index\", np.shape(testing_x_index))\n",
    "\n",
    "# sample_id: whcih test sample to test\n",
    "# indexy: y index of the solution mesh, generated before\n",
    "# if demo is true, the dim of vectors will print, this is used to check\n",
    "def testing_in_output(sample_id, indexx, demo ):\n",
    "    \n",
    "    testing_sol_coord = []\n",
    "    testing_sol_value = []\n",
    "    \n",
    "\n",
    "    temp1, temp2 = mesh_and_sol_value(testing_exact_solution[sample_id], indexx, vel_idx[-1])\n",
    "    testing_sol_coord.append(temp1)\n",
    "    testing_sol_value.append(temp2)\n",
    "    \n",
    "    testing_sol_coord = np.squeeze(testing_sol_coord )\n",
    "    testing_sol_value = np.squeeze(testing_sol_value )\n",
    "\n",
    "\n",
    "    testing_node_input = []\n",
    "    testing_u_input = []\n",
    "\n",
    "    testing_u_input.append(set_of_testing_source_value[sample_id])\n",
    "    # need to lift the dimension,since we test the same source at the same location for all points in the solution domain\n",
    "    testing_u_input = np.repeat(testing_u_input, len(testing_sol_value), axis = 0)\n",
    "\n",
    "    testing_node_input.append(set_of_testing_coord_of_source[sample_id])\n",
    "    testing_node_input = np.repeat(testing_node_input, len(testing_sol_value), axis = 0)\n",
    "\n",
    "    testing_dependent_input = np.expand_dims(testing_sol_coord, axis = 1)\n",
    "\n",
    "    \n",
    "    testing_output = np.expand_dims(testing_sol_value, axis = 1)\n",
    "\n",
    "    \n",
    "    torch1_testing_u_input = torch.tensor(np.expand_dims(testing_u_input, axis = -1), dtype=torch.float32, device = device)\n",
    "    torch1_testing_node_input = torch.tensor(np.expand_dims(testing_node_input, axis = 1), dtype=torch.float32, device = device)\n",
    "    torch1_testing_output = torch.tensor(testing_output, dtype=torch.float32, device = device)\n",
    "    torch1_testing_dependent_input = torch.tensor(testing_dependent_input, dtype=torch.float32, device = device)\n",
    "    if demo:\n",
    "        \n",
    "        print(\"testing_sol_coord\", np.shape(testing_sol_coord))\n",
    "        print(\"testing_sol_value\", np.shape(testing_sol_value))\n",
    "        print(\"--------------------------------------------------------------->>\")\n",
    "    \n",
    "        print(\"testing_node_input\", np.shape(testing_node_input))\n",
    "        print(\"testing_u_input\", np.shape(testing_u_input))\n",
    "        print(\"testing_output\", np.shape(testing_output))\n",
    "        print(\"testing_dependent_input\", np.shape(testing_dependent_input))\n",
    "        \n",
    "        print(\"--------------------------------------------------------------->>\")\n",
    "        \n",
    "        print(\"torch1_testing_u_input\", torch1_testing_u_input.size())\n",
    "        print(\"torch1_testing_node_input\", torch1_testing_node_input.size())\n",
    "        print(\"torch1_testing_output\", torch1_testing_output.size())\n",
    "        print(\"torch1_testing_dependent_input\", torch1_testing_dependent_input.size())\n",
    "        \n",
    "    return torch1_testing_u_input, torch1_testing_node_input, torch1_testing_output, torch1_testing_dependent_input\n",
    "\n",
    "torch_testing_u_input, torch_testing_node_input, torch_testing_output, torch_testing_dependent_input = testing_in_output(which_sample_to_test,  testing_x_index, True )"
   ]
  },
  {
   "cell_type": "markdown",
   "metadata": {
    "papermill": {
     "duration": 0.019819,
     "end_time": "2023-02-14T04:26:02.806990",
     "exception": false,
     "start_time": "2023-02-14T04:26:02.787171",
     "status": "completed"
    },
    "tags": []
   },
   "source": [
    "Vanila BelNet $G_{\\theta}$ mathematical formulation.\n",
    "\n",
    "Find $q^{k}\\in\\mathbb{R}^{d}$, $W_y^{1, k}\\in\\mathbb{R}^{N_1\\times N}$, $W_y^{2, k}\\in\\mathbb{R}^{N\\times N_1}$, \n",
    "$b_x^k\\in \\mathbb{R}$, $b_y^k\\in\\mathbb{R}^{N_1}$, where $k = 1, ..., K$, activation functions $a_x$, $a_y$ and $a_u$ \n",
    "such that,\n",
    "\\begin{align}\n",
    " G_{\\theta}(u)(x) = \\sum_{k = 1}^K  a_x\\left((q^{k})^\\intercal x+ b_x^k \\right) a_u \\bigg(\\hat{u}^\\intercal W_{y}^{2, k}\\big(a_y(W_{y}^{1, k} y + b_y^k )  \\big) \\bigg),\n",
    "    \\label{intro_formulation3}\n",
    "\\end{align}\n",
    "for $x\\in K_2\\subset \\mathbb{R}^d$, $u\\in V$,  $\\hat{u} = [u(y_1), ..., u(y_N)]^\\intercal \\in\\mathbb{R}^N$ and $u\\in V$."
   ]
  },
  {
   "cell_type": "markdown",
   "metadata": {
    "papermill": {
     "duration": 0.020151,
     "end_time": "2023-02-14T04:26:02.847756",
     "exception": false,
     "start_time": "2023-02-14T04:26:02.827605",
     "status": "completed"
    },
    "tags": []
   },
   "source": [
    "We present the vanila BelNet structure in the picture below. \n",
    "\n",
    "1. The general idea is: we projection the input function $u$ ontp a learnable low dimensional space, then reconstruct the output function from this reduced order model based on some learnable basis for the output function space. The projection process is the model reduction (encoding) and the reconstruction is the decoding process.\n",
    "\n",
    "2. Please note that $y\\in\\mathbb{R}^N$ is a set of sensors, $u = [u(y_1),..., u(y_N)]^{\\intercal}$ is the function value evaluated at all sensors, $x\\in\\mathbb{R}^d$ is one point in the output function domain.\n",
    "\n",
    "3. The projection nets roughly learns the projection coefficients onto $K$ basis.\n",
    "\n",
    "4. The construction net learns the basis for the output function space. The output $a_x(Qx+b_x)\\in\\mathbb{R}^K$, where $Q$ and $b_x$ are trainable weights and bias.\n",
    "\n",
    "5. $a_u$ (activation function) introduce the nonlinearity into the network (nonlinear in u). The universal approximation theory of BelNet indicates that one should learns a nonlinearity to replcae $a_u$, the details are discussed in our next paper which will be avaiable soon. Here, we propose a simplification of the theory-guided BelNet. Specicialy, one can do $a_u(WPU)$, where $a_u$ is the activation function and $W$ is a trainable matrix. "
   ]
  },
  {
   "attachments": {
    "bf80554c-c31d-41c5-bd52-51eae3bf8354.png": {
     "image/png": "[encoded data removed]"
    }
   },
   "cell_type": "markdown",
   "metadata": {
    "papermill": {
     "duration": 0.019443,
     "end_time": "2023-02-14T04:26:02.887542",
     "exception": false,
     "start_time": "2023-02-14T04:26:02.868099",
     "status": "completed"
    },
    "tags": []
   },
   "source": [
    "![belnet_kaggle.png](attachment:bf80554c-c31d-41c5-bd52-51eae3bf8354.png)"
   ]
  },
  {
   "cell_type": "markdown",
   "metadata": {
    "papermill": {
     "duration": 0.020068,
     "end_time": "2023-02-14T04:26:02.927729",
     "exception": false,
     "start_time": "2023-02-14T04:26:02.907661",
     "status": "completed"
    },
    "tags": []
   },
   "source": [
    "The next cell, OneProjectionNet, is one projection net (e.g.,$ W_y^{2, 1}a_y(W_y^{1,1}y+b_y^1)$) in the green area in the Figure above. \n",
    "\n",
    "It is a two-layer neural network. Even a very simple structure with a small number amount of trainable parameters of OneProjectionNet can give reliable result.\n",
    "\n",
    "However, the Construction net usually should be deep.\n",
    "\n",
    "Each OneProjectionNet outputs a vector which has the dimension = the number of sensors for each input function (IC)."
   ]
  },
  {
   "cell_type": "code",
   "execution_count": 9,
   "metadata": {
    "execution": {
     "iopub.execute_input": "2023-02-14T04:26:02.976003Z",
     "iopub.status.busy": "2023-02-14T04:26:02.975228Z",
     "iopub.status.idle": "2023-02-14T04:26:02.977974Z",
     "shell.execute_reply": "2023-02-14T04:26:02.977529Z",
     "shell.execute_reply.started": "2023-02-14T01:57:56.411937Z"
    },
    "papermill": {
     "duration": 0.029781,
     "end_time": "2023-02-14T04:26:02.978069",
     "exception": false,
     "start_time": "2023-02-14T04:26:02.948288",
     "status": "completed"
    },
    "tags": []
   },
   "outputs": [],
   "source": [
    "activation1 = nn.Tanh()\n",
    "class OneProjectionNet(nn.Module):\n",
    "    def __init__(self):\n",
    "        super().__init__()\n",
    "        \n",
    "        bo_b = True\n",
    "        bo_last = False\n",
    "\n",
    "        self.l1 = nn.Linear(np.shape(set_of_testing_coord_of_source)[1], 100, bias = bo_b).to(device)        \n",
    "        self.l4 = nn.Linear(100, np.shape(set_of_training_source_value)[1], bias = bo_last).to(device)\n",
    "        \n",
    "        \n",
    "    def forward(self, v):\n",
    "        v = activation1 ( self.l1(v) )\n",
    "        v = ( self.l4(v) )       \n",
    "\n",
    "        return v"
   ]
  },
  {
   "cell_type": "markdown",
   "metadata": {
    "papermill": {
     "duration": 0.020216,
     "end_time": "2023-02-14T04:26:03.018709",
     "exception": false,
     "start_time": "2023-02-14T04:26:02.998493",
     "status": "completed"
    },
    "tags": []
   },
   "source": [
    "AllProjectionNets combines all OneProjectionNets. It will assemble the $P$ matrix, which has dimension: number of basis ($K$) $\\times $ number of sensors ($N$).\n",
    "\n",
    "dim_output_space_basis, which is the $K$ in the Figure above, is one critical parameter. \n",
    "\n",
    "From the theory point of view, it represents the number of basis for the output function space. \n",
    "\n",
    "The relative error decays as dim_output_space_basis increases, however, it is stable when dim_output_space_basis is large enough.\n",
    "\n",
    "The output of AllProjectionNets (projection nets) has dimension: number of samples, number of basis (dim_output_space_basis), number of sensors ($N$ in mathematical formulation above) for each input function.\n"
   ]
  },
  {
   "cell_type": "code",
   "execution_count": 10,
   "metadata": {
    "execution": {
     "iopub.execute_input": "2023-02-14T04:26:03.067398Z",
     "iopub.status.busy": "2023-02-14T04:26:03.066556Z",
     "iopub.status.idle": "2023-02-14T04:26:03.069830Z",
     "shell.execute_reply": "2023-02-14T04:26:03.069348Z",
     "shell.execute_reply.started": "2023-02-14T01:57:56.428631Z"
    },
    "papermill": {
     "duration": 0.030794,
     "end_time": "2023-02-14T04:26:03.069941",
     "exception": false,
     "start_time": "2023-02-14T04:26:03.039147",
     "status": "completed"
    },
    "tags": []
   },
   "outputs": [],
   "source": [
    "class AllProjectionNets(nn.Module):\n",
    "    def __init__(self):\n",
    "        super().__init__()\n",
    "        \n",
    "        bo_b = True\n",
    "        bo_last = False\n",
    "        \n",
    "        self.set_lay = []\n",
    "        \n",
    "        for jj in range(dim_output_space_basis):\n",
    "            self.set_lay.append(OneProjectionNet())\n",
    "        \n",
    "        \n",
    "    def forward(self, v):\n",
    "\n",
    "        w = self.set_lay[0](v)\n",
    "\n",
    "        for ii in range(dim_output_space_basis-1):\n",
    "            w = torch.cat((w, self.set_lay[ii+1](v)), dim = 1 )\n",
    "        \n",
    "        # W dimension: number of samples, number of basis (dim_output_space_basis), number of sensors for each input function\n",
    "        return w"
   ]
  },
  {
   "cell_type": "markdown",
   "metadata": {
    "papermill": {
     "duration": 0.019956,
     "end_time": "2023-02-14T04:26:03.110255",
     "exception": false,
     "start_time": "2023-02-14T04:26:03.090299",
     "status": "completed"
    },
    "tags": []
   },
   "source": [
    "Construction net learns the basis for the output function space. Our suggestion is to use a deeper network for the Construction net. \n",
    "\n",
    "Additionally, the activation functions selection in operator learning particularly DeepONet and BelNet are critical. The network predictions vary greatly given different activations."
   ]
  },
  {
   "cell_type": "code",
   "execution_count": 11,
   "metadata": {
    "execution": {
     "iopub.execute_input": "2023-02-14T04:26:03.160410Z",
     "iopub.status.busy": "2023-02-14T04:26:03.159705Z",
     "iopub.status.idle": "2023-02-14T04:26:03.162486Z",
     "shell.execute_reply": "2023-02-14T04:26:03.162888Z",
     "shell.execute_reply.started": "2023-02-14T01:57:56.444782Z"
    },
    "papermill": {
     "duration": 0.032868,
     "end_time": "2023-02-14T04:26:03.163017",
     "exception": false,
     "start_time": "2023-02-14T04:26:03.130149",
     "status": "completed"
    },
    "tags": []
   },
   "outputs": [],
   "source": [
    "activation2 = nn.Tanh()\n",
    "class Construction(nn.Module):\n",
    "    def __init__(self):\n",
    "        super().__init__()\n",
    "        \n",
    "        bo_b = True\n",
    "        bo_last = False\n",
    "\n",
    "        self.l3 = nn.Linear(2, 100, bias = bo_b).to(device)\n",
    "        self.l4 = nn.Linear(100, 100, bias = bo_b).to(device)\n",
    "        self.l5 = nn.Linear(100, 100, bias = bo_b).to(device)\n",
    "        self.l51 = nn.Linear(100, 100, bias = bo_b).to(device)\n",
    "        self.l52 = nn.Linear(100, 100, bias = bo_b).to(device)\n",
    "        self.l6 = nn.Linear(100, 100, bias = bo_b).to(device)\n",
    "        self.l7 = nn.Linear(100, dim_output_space_basis, bias = bo_last).to(device)\n",
    "        \n",
    "        self.l8 = nn.Linear(2, dim_output_space_basis, bias = bo_b).to(device)\n",
    "        \n",
    "    def forward(self, w):\n",
    "        w = activation2 ( self.l3(w) )\n",
    "        w = activation2 ( self.l4(w) )\n",
    "        w = activation2 ( self.l5(w) )\n",
    "        w = activation2 ( self.l51(w) )\n",
    "        w = activation2 ( self.l52(w) )\n",
    "        w = activation2 ( self.l6(w) )\n",
    "        w =  ( self.l7(w) )\n",
    "        \n",
    "        # dim of w: number of samples, 1, dim_output_space_basis\n",
    "        # please note that, the 1 is an auxiliary dimension used for the later matrix multiplications.\n",
    "        return w"
   ]
  },
  {
   "cell_type": "markdown",
   "metadata": {
    "papermill": {
     "duration": 0.022001,
     "end_time": "2023-02-14T04:26:03.205123",
     "exception": false,
     "start_time": "2023-02-14T04:26:03.183122",
     "status": "completed"
    },
    "tags": []
   },
   "source": [
    "The Test net is trainable and will introduce the nonlinearity.\n",
    "\n",
    "The l7 linear layer and the activation function is a simplication (much less trainable parameters) of the theoretical BelNet network structure but works well."
   ]
  },
  {
   "cell_type": "code",
   "execution_count": 12,
   "metadata": {
    "execution": {
     "iopub.execute_input": "2023-02-14T04:26:03.254860Z",
     "iopub.status.busy": "2023-02-14T04:26:03.254041Z",
     "iopub.status.idle": "2023-02-14T04:26:03.256791Z",
     "shell.execute_reply": "2023-02-14T04:26:03.256380Z",
     "shell.execute_reply.started": "2023-02-14T01:57:56.469658Z"
    },
    "papermill": {
     "duration": 0.031181,
     "end_time": "2023-02-14T04:26:03.256886",
     "exception": false,
     "start_time": "2023-02-14T04:26:03.225705",
     "status": "completed"
    },
    "tags": []
   },
   "outputs": [],
   "source": [
    "activation3 = nn.ReLU()\n",
    "class Test(nn.Module):\n",
    "    def __init__(self):\n",
    "        super().__init__()\n",
    "        \n",
    "        bo_b = True\n",
    "        bo_last = False\n",
    "        \n",
    "        \n",
    "        self.top = AllProjectionNets()\n",
    "        self.bottom = Construction()\n",
    "        \n",
    "        self.l7 = nn.Linear(dim_output_space_basis, dim_output_space_basis, bias = bo_last).to(device)\n",
    "        \n",
    "    # v: projection net input, sensors of the input functions\n",
    "    # w: construction net input, independent variable of the output function.\n",
    "    # y: input function value evaluated at all sensors.\n",
    "    def forward(self, v, w, y):\n",
    "        v = self.top(v)\n",
    "        w = self.bottom(w)\n",
    "        \n",
    "        \n",
    "        # pu dimension: number of samples, dim_output_space_basis, 1\n",
    "        pu = torch.bmm(v, y)\n",
    "        \n",
    "        \n",
    "        # The next step introduces the nonlinearity (nonlinear in u, which is the input function)\n",
    "        # This is a simplification of the BelNet designed based on the universal approximation theory.\n",
    "        # This l7 layer has a very small number of trainable parameters.\n",
    "        \n",
    "        pu = activation3(self.l7(torch.squeeze(pu)))\n",
    "        \n",
    "        pu = torch.unsqueeze(pu, -1)\n",
    "        e = torch.bmm(w , (pu) )\n",
    "\n",
    "        return e[:, :, 0]"
   ]
  },
  {
   "cell_type": "markdown",
   "metadata": {
    "papermill": {
     "duration": 0.019815,
     "end_time": "2023-02-14T04:26:03.297094",
     "exception": false,
     "start_time": "2023-02-14T04:26:03.277279",
     "status": "completed"
    },
    "tags": []
   },
   "source": [
    "The next cell is the training step. \n",
    "\n",
    "We will train multiple modes independently and save the relative errors for all different trainings."
   ]
  },
  {
   "cell_type": "code",
   "execution_count": 13,
   "metadata": {
    "execution": {
     "iopub.execute_input": "2023-02-14T04:26:03.350165Z",
     "iopub.status.busy": "2023-02-14T04:26:03.348091Z",
     "iopub.status.idle": "2023-02-14T05:32:35.076107Z",
     "shell.execute_reply": "2023-02-14T05:32:35.077110Z",
     "shell.execute_reply.started": "2023-02-14T01:58:22.473605Z"
    },
    "papermill": {
     "duration": 3991.759655,
     "end_time": "2023-02-14T05:32:35.077380",
     "exception": false,
     "start_time": "2023-02-14T04:26:03.317725",
     "status": "completed"
    },
    "tags": []
   },
   "outputs": [
    {
     "name": "stdout",
     "output_type": "stream",
     "text": [
      "0 mean 1.290084\n",
      "1 mean 1.074648\n",
      "2 mean 1.522842\n",
      "3 mean 1.415201\n",
      "4 mean 1.384664\n",
      "5 mean 1.067385\n",
      "6 mean 2.08214\n",
      "7 mean 1.421756\n",
      "8 mean 1.35487\n",
      "9 mean 2.048747\n",
      "10 mean 1.028864\n",
      "11 mean 1.981276\n",
      "12 mean 1.412156\n",
      "13 mean 1.008117\n",
      "14 mean 1.327269\n",
      "15 mean 1.748391\n",
      "16 mean 1.42366\n",
      "17 mean 1.425034\n",
      "18 mean 1.340351\n",
      "19 mean 1.539495\n",
      "20 mean 1.521902\n",
      "21 mean 1.163269\n",
      "22 mean 1.387284\n",
      "23 mean 1.071565\n",
      "24 mean 1.191776\n",
      "25 mean 1.369629\n",
      "26 mean 1.329189\n",
      "27 mean 1.550232\n",
      "28 mean 1.381597\n",
      "29 mean 2.743529\n",
      "30 mean 1.708539\n",
      "31 mean 1.758739\n",
      "32 mean 1.026431\n",
      "33 mean 2.720071\n",
      "34 mean 1.742548\n",
      "35 mean 1.364183\n",
      "36 mean 1.655734\n",
      "37 mean 1.940428\n",
      "38 mean 1.489285\n",
      "39 mean 2.597841\n",
      "40 mean 1.579112\n",
      "41 mean 0.90346\n",
      "42 mean 1.324247\n",
      "43 mean 1.391286\n",
      "44 mean 1.518267\n",
      "45 mean 1.197286\n",
      "46 mean 1.522001\n",
      "47 mean 1.333854\n",
      "48 mean 1.558956\n",
      "49 mean 1.676892\n"
     ]
    }
   ],
   "source": [
    "nb_training = 50\n",
    "nb_epochs = 5000\n",
    "lrG = 0.005\n",
    "\n",
    "nb_of_testing_samples = len(set_of_testing_coord_of_source)\n",
    "\n",
    "# save the relative errors of all independent training.\n",
    "set_all_relative_err = []\n",
    "\n",
    "for tt in range(nb_training):\n",
    "    \n",
    "    fnn_adam = Test()\n",
    "    optimizerG = optim.Adam(fnn_adam.parameters(), lr = lrG )\n",
    "    scheduler = torch.optim.lr_scheduler.StepLR(optimizerG, step_size = 1000, gamma = 0.5)\n",
    "    \n",
    "    for ep in range(nb_epochs):\n",
    "\n",
    "        output = fnn_adam(torch_training_node_input, torch_training_dependent_input, torch_training_u_input)\n",
    "        diff = output - torch_training_output\n",
    "        loss = torch.sqrt((diff*diff).mean() )\n",
    "\n",
    "        fnn_adam.zero_grad()\n",
    "\n",
    "        loss.backward()\n",
    "        optimizerG.step()\n",
    "        scheduler.step()\n",
    "        \n",
    "        \n",
    "    # save relative error of all testing samples\n",
    "    relative_err_all_testing_samples = []\n",
    "\n",
    "    # calculate the mean relative error for all samples.\n",
    "    for ii in (range(nb_of_testing_samples)):\n",
    "\n",
    "\n",
    "        torch_testing_u_input, torch_testing_node_input, torch_testing_output, torch_testing_dependent_input = testing_in_output(ii, testing_x_index, False )\n",
    "\n",
    "        pred_output = fnn_adam(torch_testing_node_input, torch_testing_dependent_input, torch_testing_u_input)\n",
    "        pred_output = pred_output.cpu().detach().numpy()\n",
    "\n",
    "        exact_sol = torch_testing_output.cpu().detach().numpy()\n",
    "\n",
    "        err = pred_output - exact_sol\n",
    "        relative_err = LA.norm(err)/LA.norm(exact_sol)*100\n",
    "        relative_err_all_testing_samples.append(relative_err)\n",
    "    \n",
    "    print(tt,  \"mean\", np.round(np.mean(relative_err_all_testing_samples), 6) )\n",
    "    \n",
    "    set_all_relative_err.append(relative_err_all_testing_samples)\n",
    "    \n",
    "    \n",
    "        "
   ]
  },
  {
   "cell_type": "code",
   "execution_count": 14,
   "metadata": {
    "execution": {
     "iopub.execute_input": "2023-02-14T05:32:35.194591Z",
     "iopub.status.busy": "2023-02-14T05:32:35.193772Z",
     "iopub.status.idle": "2023-02-14T05:32:35.229601Z",
     "shell.execute_reply": "2023-02-14T05:32:35.230272Z",
     "shell.execute_reply.started": "2023-02-14T04:22:12.799166Z"
    },
    "papermill": {
     "duration": 0.099358,
     "end_time": "2023-02-14T05:32:35.230441",
     "exception": false,
     "start_time": "2023-02-14T05:32:35.131083",
     "status": "completed"
    },
    "tags": []
   },
   "outputs": [
    {
     "name": "stdout",
     "output_type": "stream",
     "text": [
      "set_all_relative_err (50, 1801)\n",
      "relative errors of all training 1.5123216309212355\n",
      "remove_outliers (50, 1701)\n",
      "mean relative errors of all training (remove outliers) 1.422574785357064\n",
      "np.mean(set_all_relative_err, axis = 1) (50,)\n",
      "Mean relative error (remove 5 worst training results) 1.4094167498468795\n"
     ]
    }
   ],
   "source": [
    "set_all_relative_err = np.array(set_all_relative_err)\n",
    "print(\"set_all_relative_err\", np.shape(set_all_relative_err))\n",
    "print(\"relative errors of all training\", np.mean(np.mean(set_all_relative_err, axis = 1) ) )\n",
    "\n",
    "# remove the worst 100 predictions (closed to 5% of the total testing samples) \n",
    "remove_outliers = []\n",
    "for ii in range(len(set_all_relative_err)):\n",
    "    remove_outliers.append(np.sort(set_all_relative_err[ii])[:-100])\n",
    "    \n",
    "print(\"remove_outliers\", np.shape(remove_outliers))\n",
    "print(\"mean relative errors of all training (remove outliers)\", np.mean(np.mean(remove_outliers, axis = 1) ) )\n",
    "\n",
    "# remove the worst 5 trainings\n",
    "print(\"np.mean(set_all_relative_err, axis = 1)\", np.shape(np.mean(set_all_relative_err, axis = 1) ) )\n",
    "print(\"Mean relative error (remove 5 worst training results)\", np.mean(np.sort(np.mean(set_all_relative_err, axis = 1))[:-5]))\n",
    "    "
   ]
  },
  {
   "cell_type": "code",
   "execution_count": 15,
   "metadata": {
    "execution": {
     "iopub.execute_input": "2023-02-14T05:32:35.342057Z",
     "iopub.status.busy": "2023-02-14T05:32:35.341264Z",
     "iopub.status.idle": "2023-02-14T05:32:35.343393Z",
     "shell.execute_reply": "2023-02-14T05:32:35.342752Z"
    },
    "papermill": {
     "duration": 0.062245,
     "end_time": "2023-02-14T05:32:35.343519",
     "exception": false,
     "start_time": "2023-02-14T05:32:35.281274",
     "status": "completed"
    },
    "tags": []
   },
   "outputs": [],
   "source": [
    "np.save(\"set_all_relative_err\", set_all_relative_err)"
   ]
  }
 ],
 "metadata": {
  "kernelspec": {
   "display_name": "Python 3",
   "language": "python",
   "name": "python3"
  },
  "language_info": {
   "codemirror_mode": {
    "name": "ipython",
    "version": 3
   },
   "file_extension": ".py",
   "mimetype": "text/x-python",
   "name": "python",
   "nbconvert_exporter": "python",
   "pygments_lexer": "ipython3",
   "version": "3.7.6"
  },
  "papermill": {
   "duration": 4010.146895,
   "end_time": "2023-02-14T05:32:35.703188",
   "environment_variables": {},
   "exception": null,
   "input_path": "__notebook__.ipynb",
   "output_path": "__notebook__.ipynb",
   "parameters": {},
   "start_time": "2023-02-14T04:25:45.556293",
   "version": "2.1.0"
  }
 },
 "nbformat": 4,
 "nbformat_minor": 4
}
